{
  "nbformat": 4,
  "nbformat_minor": 0,
  "metadata": {
    "colab": {
      "provenance": [],
      "authorship_tag": "ABX9TyOVAHMtWQ9x4fB0aQj6mFOq",
      "include_colab_link": true
    },
    "kernelspec": {
      "name": "python3",
      "display_name": "Python 3"
    },
    "language_info": {
      "name": "python"
    }
  },
  "cells": [
    {
      "cell_type": "markdown",
      "metadata": {
        "id": "view-in-github",
        "colab_type": "text"
      },
      "source": [
        "<a href=\"https://colab.research.google.com/github/JPVillamizarCastillo/TRAINING/blob/main/Caracterizaci%C3%B3n_de_lo_distribuci%C3%B3n_de_perdida_R_1_.ipynb\" target=\"_parent\"><img src=\"https://colab.research.google.com/assets/colab-badge.svg\" alt=\"Open In Colab\"/></a>"
      ]
    },
    {
      "cell_type": "markdown",
      "source": [
        "Una empresa del sector asegurador a creado una base de datos de eventos de pérdidas asociado con la administración y la ejecución asociado con los procesos de la organización. De acuerdo con la base de datos, la empresa quiere llevar a cabo la caracterización de la distribución agregada de sus pérdidas.\n",
        "\n",
        "Para la caracterización de la distribución agregada de pérdidas es necesario tener en cuenta las siguientes métricas:\n",
        "\n",
        "* Error asociado con la muestra de los datos. (Tamaño de la Muestra).\n",
        "* Media = 1.78\n",
        "* Varianza = 0.14\n",
        "* Coeficiente de Asimetría = 3.58\n",
        "* Coeficiente de Kurtosis = 31.73\n",
        "Llevar a cabo el proceso de muestreo aleatorio de la variable a una confiabilidad del 99.9% según los acuerdos de Basilea mediante la utilización del método de Montecarlo.\n"
      ],
      "metadata": {
        "id": "K94ZsB1pr1qh"
      }
    },
    {
      "cell_type": "code",
      "source": [
        "import numpy as np\n",
        "import matplotlib.pyplot as plt\n",
        "import pandas as pd\n",
        "import seaborn as sns  #Libreria para la grafica de distribución\n",
        "\n",
        "#Para carga automatica de datos\n",
        "from google.colab import drive\n",
        "drive.mount(\"/content/drive\")"
      ],
      "metadata": {
        "colab": {
          "base_uri": "https://localhost:8080/"
        },
        "id": "rbFZ8DZM8aRP",
        "outputId": "b5ec1755-e993-4899-e3fb-e314fdc5d3bd"
      },
      "execution_count": null,
      "outputs": [
        {
          "output_type": "stream",
          "name": "stdout",
          "text": [
            "Mounted at /content/drive\n"
          ]
        }
      ]
    },
    {
      "cell_type": "markdown",
      "source": [
        "# Variables description"
      ],
      "metadata": {
        "id": "SNLBCxhSqY9O"
      }
    },
    {
      "cell_type": "markdown",
      "source": [
        "* **Fechas:** Semana en la cual ocurrieron los accicentes.\n",
        "* **Eventos:**Numero de eventos ocurridos.\n",
        "* **Transacción promedio:** Es el monto promedio de los eventos realizados.\n",
        "* **Eventos-fallo:** Es el numero de fallos que ocurrieron.\n",
        "* **Pérdida promedio:** Es el monto promedio del evento de fallo."
      ],
      "metadata": {
        "id": "F0TGJEf0qXc2"
      }
    },
    {
      "cell_type": "code",
      "execution_count": null,
      "metadata": {
        "colab": {
          "base_uri": "https://localhost:8080/",
          "height": 632
        },
        "id": "__nmbZiT8Q2K",
        "outputId": "6ed4a725-1930-4a6f-ce60-2e37afad8db0",
        "collapsed": true
      },
      "outputs": [
        {
          "output_type": "execute_result",
          "data": {
            "text/plain": [
              "       Fechas  Transacciones Diarias  Valor Transado (millones)  \\\n",
              "0  2010-01-01                     44                   358.3637   \n",
              "1  2010-01-02                     43                   742.8517   \n",
              "2  2010-01-03                     55                   646.6903   \n",
              "3  2010-01-04                     59                   653.5397   \n",
              "4  2010-01-05                     52                   636.6142   \n",
              "..        ...                    ...                        ...   \n",
              "95 2010-04-06                     50                   441.8036   \n",
              "96 2010-04-07                     48                   552.9503   \n",
              "97 2010-04-08                     58                   453.7787   \n",
              "98 2010-04-09                     49                   596.0837   \n",
              "99 2010-04-10                     44                   527.7603   \n",
              "\n",
              "    Transacciones Fallidas  Valor Generado (millones)  Perdida ($)  \\\n",
              "0                        5                   0.079029     0.395144   \n",
              "1                        7                   0.021259     0.148815   \n",
              "2                        9                   0.038818     0.349362   \n",
              "3                        3                   0.035956     0.107869   \n",
              "4                        4                   0.204951     0.819804   \n",
              "..                     ...                        ...          ...   \n",
              "95                      10                   0.206232     2.062324   \n",
              "96                       7                   0.019812     0.138682   \n",
              "97                       6                   0.054705     0.328230   \n",
              "98                       6                   0.006537     0.039223   \n",
              "99                       6                   0.074035     0.444212   \n",
              "\n",
              "    Unnamed: 6  Unnamed: 7  Perdidad ($)  Unnamed: 9  Unnamed: 10         LI  \\\n",
              "0          NaN         Max     34.822156         NaN          1.0          0   \n",
              "1          NaN         Min      0.000000         NaN          2.0   3.482216   \n",
              "2          NaN       Rango     34.822156         NaN          3.0   6.964431   \n",
              "3          NaN          NI     10.000000         NaN          4.0  10.446647   \n",
              "4          NaN  Tamalo int      3.482216         NaN          5.0  13.928862   \n",
              "..         ...         ...           ...         ...          ...        ...   \n",
              "95         NaN         NaN           NaN         NaN          NaN        NaN   \n",
              "96         NaN         NaN           NaN         NaN          NaN        NaN   \n",
              "97         NaN         NaN           NaN         NaN          NaN        NaN   \n",
              "98         NaN         NaN           NaN         NaN          NaN        NaN   \n",
              "99         NaN         NaN           NaN         NaN          NaN        NaN   \n",
              "\n",
              "           LS   ND      % ND Valor Central    Varianza  \n",
              "0    3.482216  346  0.988571      1.741108    0.001584  \n",
              "1    6.964431    4  0.011429      5.223323   11.850248  \n",
              "2   10.446647    0         0      8.705539   47.950563  \n",
              "3   13.928862    0         0     12.187755  108.302529  \n",
              "4   17.411078    0         0      15.66997  192.906147  \n",
              "..        ...  ...       ...           ...         ...  \n",
              "95        NaN  NaN       NaN           NaN         NaN  \n",
              "96        NaN  NaN       NaN           NaN         NaN  \n",
              "97        NaN  NaN       NaN           NaN         NaN  \n",
              "98        NaN  NaN       NaN           NaN         NaN  \n",
              "99        NaN  NaN       NaN           NaN         NaN  \n",
              "\n",
              "[100 rows x 17 columns]"
            ],
            "text/html": [
              "\n",
              "  <div id=\"df-1bf07d84-016a-4c63-9414-9b47e03fcd97\" class=\"colab-df-container\">\n",
              "    <div>\n",
              "<style scoped>\n",
              "    .dataframe tbody tr th:only-of-type {\n",
              "        vertical-align: middle;\n",
              "    }\n",
              "\n",
              "    .dataframe tbody tr th {\n",
              "        vertical-align: top;\n",
              "    }\n",
              "\n",
              "    .dataframe thead th {\n",
              "        text-align: right;\n",
              "    }\n",
              "</style>\n",
              "<table border=\"1\" class=\"dataframe\">\n",
              "  <thead>\n",
              "    <tr style=\"text-align: right;\">\n",
              "      <th></th>\n",
              "      <th>Fechas</th>\n",
              "      <th>Transacciones Diarias</th>\n",
              "      <th>Valor Transado (millones)</th>\n",
              "      <th>Transacciones Fallidas</th>\n",
              "      <th>Valor Generado (millones)</th>\n",
              "      <th>Perdida ($)</th>\n",
              "      <th>Unnamed: 6</th>\n",
              "      <th>Unnamed: 7</th>\n",
              "      <th>Perdidad ($)</th>\n",
              "      <th>Unnamed: 9</th>\n",
              "      <th>Unnamed: 10</th>\n",
              "      <th>LI</th>\n",
              "      <th>LS</th>\n",
              "      <th>ND</th>\n",
              "      <th>% ND</th>\n",
              "      <th>Valor Central</th>\n",
              "      <th>Varianza</th>\n",
              "    </tr>\n",
              "  </thead>\n",
              "  <tbody>\n",
              "    <tr>\n",
              "      <th>0</th>\n",
              "      <td>2010-01-01</td>\n",
              "      <td>44</td>\n",
              "      <td>358.3637</td>\n",
              "      <td>5</td>\n",
              "      <td>0.079029</td>\n",
              "      <td>0.395144</td>\n",
              "      <td>NaN</td>\n",
              "      <td>Max</td>\n",
              "      <td>34.822156</td>\n",
              "      <td>NaN</td>\n",
              "      <td>1.0</td>\n",
              "      <td>0</td>\n",
              "      <td>3.482216</td>\n",
              "      <td>346</td>\n",
              "      <td>0.988571</td>\n",
              "      <td>1.741108</td>\n",
              "      <td>0.001584</td>\n",
              "    </tr>\n",
              "    <tr>\n",
              "      <th>1</th>\n",
              "      <td>2010-01-02</td>\n",
              "      <td>43</td>\n",
              "      <td>742.8517</td>\n",
              "      <td>7</td>\n",
              "      <td>0.021259</td>\n",
              "      <td>0.148815</td>\n",
              "      <td>NaN</td>\n",
              "      <td>Min</td>\n",
              "      <td>0.000000</td>\n",
              "      <td>NaN</td>\n",
              "      <td>2.0</td>\n",
              "      <td>3.482216</td>\n",
              "      <td>6.964431</td>\n",
              "      <td>4</td>\n",
              "      <td>0.011429</td>\n",
              "      <td>5.223323</td>\n",
              "      <td>11.850248</td>\n",
              "    </tr>\n",
              "    <tr>\n",
              "      <th>2</th>\n",
              "      <td>2010-01-03</td>\n",
              "      <td>55</td>\n",
              "      <td>646.6903</td>\n",
              "      <td>9</td>\n",
              "      <td>0.038818</td>\n",
              "      <td>0.349362</td>\n",
              "      <td>NaN</td>\n",
              "      <td>Rango</td>\n",
              "      <td>34.822156</td>\n",
              "      <td>NaN</td>\n",
              "      <td>3.0</td>\n",
              "      <td>6.964431</td>\n",
              "      <td>10.446647</td>\n",
              "      <td>0</td>\n",
              "      <td>0</td>\n",
              "      <td>8.705539</td>\n",
              "      <td>47.950563</td>\n",
              "    </tr>\n",
              "    <tr>\n",
              "      <th>3</th>\n",
              "      <td>2010-01-04</td>\n",
              "      <td>59</td>\n",
              "      <td>653.5397</td>\n",
              "      <td>3</td>\n",
              "      <td>0.035956</td>\n",
              "      <td>0.107869</td>\n",
              "      <td>NaN</td>\n",
              "      <td>NI</td>\n",
              "      <td>10.000000</td>\n",
              "      <td>NaN</td>\n",
              "      <td>4.0</td>\n",
              "      <td>10.446647</td>\n",
              "      <td>13.928862</td>\n",
              "      <td>0</td>\n",
              "      <td>0</td>\n",
              "      <td>12.187755</td>\n",
              "      <td>108.302529</td>\n",
              "    </tr>\n",
              "    <tr>\n",
              "      <th>4</th>\n",
              "      <td>2010-01-05</td>\n",
              "      <td>52</td>\n",
              "      <td>636.6142</td>\n",
              "      <td>4</td>\n",
              "      <td>0.204951</td>\n",
              "      <td>0.819804</td>\n",
              "      <td>NaN</td>\n",
              "      <td>Tamalo int</td>\n",
              "      <td>3.482216</td>\n",
              "      <td>NaN</td>\n",
              "      <td>5.0</td>\n",
              "      <td>13.928862</td>\n",
              "      <td>17.411078</td>\n",
              "      <td>0</td>\n",
              "      <td>0</td>\n",
              "      <td>15.66997</td>\n",
              "      <td>192.906147</td>\n",
              "    </tr>\n",
              "    <tr>\n",
              "      <th>...</th>\n",
              "      <td>...</td>\n",
              "      <td>...</td>\n",
              "      <td>...</td>\n",
              "      <td>...</td>\n",
              "      <td>...</td>\n",
              "      <td>...</td>\n",
              "      <td>...</td>\n",
              "      <td>...</td>\n",
              "      <td>...</td>\n",
              "      <td>...</td>\n",
              "      <td>...</td>\n",
              "      <td>...</td>\n",
              "      <td>...</td>\n",
              "      <td>...</td>\n",
              "      <td>...</td>\n",
              "      <td>...</td>\n",
              "      <td>...</td>\n",
              "    </tr>\n",
              "    <tr>\n",
              "      <th>95</th>\n",
              "      <td>2010-04-06</td>\n",
              "      <td>50</td>\n",
              "      <td>441.8036</td>\n",
              "      <td>10</td>\n",
              "      <td>0.206232</td>\n",
              "      <td>2.062324</td>\n",
              "      <td>NaN</td>\n",
              "      <td>NaN</td>\n",
              "      <td>NaN</td>\n",
              "      <td>NaN</td>\n",
              "      <td>NaN</td>\n",
              "      <td>NaN</td>\n",
              "      <td>NaN</td>\n",
              "      <td>NaN</td>\n",
              "      <td>NaN</td>\n",
              "      <td>NaN</td>\n",
              "      <td>NaN</td>\n",
              "    </tr>\n",
              "    <tr>\n",
              "      <th>96</th>\n",
              "      <td>2010-04-07</td>\n",
              "      <td>48</td>\n",
              "      <td>552.9503</td>\n",
              "      <td>7</td>\n",
              "      <td>0.019812</td>\n",
              "      <td>0.138682</td>\n",
              "      <td>NaN</td>\n",
              "      <td>NaN</td>\n",
              "      <td>NaN</td>\n",
              "      <td>NaN</td>\n",
              "      <td>NaN</td>\n",
              "      <td>NaN</td>\n",
              "      <td>NaN</td>\n",
              "      <td>NaN</td>\n",
              "      <td>NaN</td>\n",
              "      <td>NaN</td>\n",
              "      <td>NaN</td>\n",
              "    </tr>\n",
              "    <tr>\n",
              "      <th>97</th>\n",
              "      <td>2010-04-08</td>\n",
              "      <td>58</td>\n",
              "      <td>453.7787</td>\n",
              "      <td>6</td>\n",
              "      <td>0.054705</td>\n",
              "      <td>0.328230</td>\n",
              "      <td>NaN</td>\n",
              "      <td>NaN</td>\n",
              "      <td>NaN</td>\n",
              "      <td>NaN</td>\n",
              "      <td>NaN</td>\n",
              "      <td>NaN</td>\n",
              "      <td>NaN</td>\n",
              "      <td>NaN</td>\n",
              "      <td>NaN</td>\n",
              "      <td>NaN</td>\n",
              "      <td>NaN</td>\n",
              "    </tr>\n",
              "    <tr>\n",
              "      <th>98</th>\n",
              "      <td>2010-04-09</td>\n",
              "      <td>49</td>\n",
              "      <td>596.0837</td>\n",
              "      <td>6</td>\n",
              "      <td>0.006537</td>\n",
              "      <td>0.039223</td>\n",
              "      <td>NaN</td>\n",
              "      <td>NaN</td>\n",
              "      <td>NaN</td>\n",
              "      <td>NaN</td>\n",
              "      <td>NaN</td>\n",
              "      <td>NaN</td>\n",
              "      <td>NaN</td>\n",
              "      <td>NaN</td>\n",
              "      <td>NaN</td>\n",
              "      <td>NaN</td>\n",
              "      <td>NaN</td>\n",
              "    </tr>\n",
              "    <tr>\n",
              "      <th>99</th>\n",
              "      <td>2010-04-10</td>\n",
              "      <td>44</td>\n",
              "      <td>527.7603</td>\n",
              "      <td>6</td>\n",
              "      <td>0.074035</td>\n",
              "      <td>0.444212</td>\n",
              "      <td>NaN</td>\n",
              "      <td>NaN</td>\n",
              "      <td>NaN</td>\n",
              "      <td>NaN</td>\n",
              "      <td>NaN</td>\n",
              "      <td>NaN</td>\n",
              "      <td>NaN</td>\n",
              "      <td>NaN</td>\n",
              "      <td>NaN</td>\n",
              "      <td>NaN</td>\n",
              "      <td>NaN</td>\n",
              "    </tr>\n",
              "  </tbody>\n",
              "</table>\n",
              "<p>100 rows × 17 columns</p>\n",
              "</div>\n",
              "    <div class=\"colab-df-buttons\">\n",
              "\n",
              "  <div class=\"colab-df-container\">\n",
              "    <button class=\"colab-df-convert\" onclick=\"convertToInteractive('df-1bf07d84-016a-4c63-9414-9b47e03fcd97')\"\n",
              "            title=\"Convert this dataframe to an interactive table.\"\n",
              "            style=\"display:none;\">\n",
              "\n",
              "  <svg xmlns=\"http://www.w3.org/2000/svg\" height=\"24px\" viewBox=\"0 -960 960 960\">\n",
              "    <path d=\"M120-120v-720h720v720H120Zm60-500h600v-160H180v160Zm220 220h160v-160H400v160Zm0 220h160v-160H400v160ZM180-400h160v-160H180v160Zm440 0h160v-160H620v160ZM180-180h160v-160H180v160Zm440 0h160v-160H620v160Z\"/>\n",
              "  </svg>\n",
              "    </button>\n",
              "\n",
              "  <style>\n",
              "    .colab-df-container {\n",
              "      display:flex;\n",
              "      gap: 12px;\n",
              "    }\n",
              "\n",
              "    .colab-df-convert {\n",
              "      background-color: #E8F0FE;\n",
              "      border: none;\n",
              "      border-radius: 50%;\n",
              "      cursor: pointer;\n",
              "      display: none;\n",
              "      fill: #1967D2;\n",
              "      height: 32px;\n",
              "      padding: 0 0 0 0;\n",
              "      width: 32px;\n",
              "    }\n",
              "\n",
              "    .colab-df-convert:hover {\n",
              "      background-color: #E2EBFA;\n",
              "      box-shadow: 0px 1px 2px rgba(60, 64, 67, 0.3), 0px 1px 3px 1px rgba(60, 64, 67, 0.15);\n",
              "      fill: #174EA6;\n",
              "    }\n",
              "\n",
              "    .colab-df-buttons div {\n",
              "      margin-bottom: 4px;\n",
              "    }\n",
              "\n",
              "    [theme=dark] .colab-df-convert {\n",
              "      background-color: #3B4455;\n",
              "      fill: #D2E3FC;\n",
              "    }\n",
              "\n",
              "    [theme=dark] .colab-df-convert:hover {\n",
              "      background-color: #434B5C;\n",
              "      box-shadow: 0px 1px 3px 1px rgba(0, 0, 0, 0.15);\n",
              "      filter: drop-shadow(0px 1px 2px rgba(0, 0, 0, 0.3));\n",
              "      fill: #FFFFFF;\n",
              "    }\n",
              "  </style>\n",
              "\n",
              "    <script>\n",
              "      const buttonEl =\n",
              "        document.querySelector('#df-1bf07d84-016a-4c63-9414-9b47e03fcd97 button.colab-df-convert');\n",
              "      buttonEl.style.display =\n",
              "        google.colab.kernel.accessAllowed ? 'block' : 'none';\n",
              "\n",
              "      async function convertToInteractive(key) {\n",
              "        const element = document.querySelector('#df-1bf07d84-016a-4c63-9414-9b47e03fcd97');\n",
              "        const dataTable =\n",
              "          await google.colab.kernel.invokeFunction('convertToInteractive',\n",
              "                                                    [key], {});\n",
              "        if (!dataTable) return;\n",
              "\n",
              "        const docLinkHtml = 'Like what you see? Visit the ' +\n",
              "          '<a target=\"_blank\" href=https://colab.research.google.com/notebooks/data_table.ipynb>data table notebook</a>'\n",
              "          + ' to learn more about interactive tables.';\n",
              "        element.innerHTML = '';\n",
              "        dataTable['output_type'] = 'display_data';\n",
              "        await google.colab.output.renderOutput(dataTable, element);\n",
              "        const docLink = document.createElement('div');\n",
              "        docLink.innerHTML = docLinkHtml;\n",
              "        element.appendChild(docLink);\n",
              "      }\n",
              "    </script>\n",
              "  </div>\n",
              "\n",
              "\n",
              "<div id=\"df-a9b75f29-1449-4ed1-8670-bdd87fb69467\">\n",
              "  <button class=\"colab-df-quickchart\" onclick=\"quickchart('df-a9b75f29-1449-4ed1-8670-bdd87fb69467')\"\n",
              "            title=\"Suggest charts\"\n",
              "            style=\"display:none;\">\n",
              "\n",
              "<svg xmlns=\"http://www.w3.org/2000/svg\" height=\"24px\"viewBox=\"0 0 24 24\"\n",
              "     width=\"24px\">\n",
              "    <g>\n",
              "        <path d=\"M19 3H5c-1.1 0-2 .9-2 2v14c0 1.1.9 2 2 2h14c1.1 0 2-.9 2-2V5c0-1.1-.9-2-2-2zM9 17H7v-7h2v7zm4 0h-2V7h2v10zm4 0h-2v-4h2v4z\"/>\n",
              "    </g>\n",
              "</svg>\n",
              "  </button>\n",
              "\n",
              "<style>\n",
              "  .colab-df-quickchart {\n",
              "      --bg-color: #E8F0FE;\n",
              "      --fill-color: #1967D2;\n",
              "      --hover-bg-color: #E2EBFA;\n",
              "      --hover-fill-color: #174EA6;\n",
              "      --disabled-fill-color: #AAA;\n",
              "      --disabled-bg-color: #DDD;\n",
              "  }\n",
              "\n",
              "  [theme=dark] .colab-df-quickchart {\n",
              "      --bg-color: #3B4455;\n",
              "      --fill-color: #D2E3FC;\n",
              "      --hover-bg-color: #434B5C;\n",
              "      --hover-fill-color: #FFFFFF;\n",
              "      --disabled-bg-color: #3B4455;\n",
              "      --disabled-fill-color: #666;\n",
              "  }\n",
              "\n",
              "  .colab-df-quickchart {\n",
              "    background-color: var(--bg-color);\n",
              "    border: none;\n",
              "    border-radius: 50%;\n",
              "    cursor: pointer;\n",
              "    display: none;\n",
              "    fill: var(--fill-color);\n",
              "    height: 32px;\n",
              "    padding: 0;\n",
              "    width: 32px;\n",
              "  }\n",
              "\n",
              "  .colab-df-quickchart:hover {\n",
              "    background-color: var(--hover-bg-color);\n",
              "    box-shadow: 0 1px 2px rgba(60, 64, 67, 0.3), 0 1px 3px 1px rgba(60, 64, 67, 0.15);\n",
              "    fill: var(--button-hover-fill-color);\n",
              "  }\n",
              "\n",
              "  .colab-df-quickchart-complete:disabled,\n",
              "  .colab-df-quickchart-complete:disabled:hover {\n",
              "    background-color: var(--disabled-bg-color);\n",
              "    fill: var(--disabled-fill-color);\n",
              "    box-shadow: none;\n",
              "  }\n",
              "\n",
              "  .colab-df-spinner {\n",
              "    border: 2px solid var(--fill-color);\n",
              "    border-color: transparent;\n",
              "    border-bottom-color: var(--fill-color);\n",
              "    animation:\n",
              "      spin 1s steps(1) infinite;\n",
              "  }\n",
              "\n",
              "  @keyframes spin {\n",
              "    0% {\n",
              "      border-color: transparent;\n",
              "      border-bottom-color: var(--fill-color);\n",
              "      border-left-color: var(--fill-color);\n",
              "    }\n",
              "    20% {\n",
              "      border-color: transparent;\n",
              "      border-left-color: var(--fill-color);\n",
              "      border-top-color: var(--fill-color);\n",
              "    }\n",
              "    30% {\n",
              "      border-color: transparent;\n",
              "      border-left-color: var(--fill-color);\n",
              "      border-top-color: var(--fill-color);\n",
              "      border-right-color: var(--fill-color);\n",
              "    }\n",
              "    40% {\n",
              "      border-color: transparent;\n",
              "      border-right-color: var(--fill-color);\n",
              "      border-top-color: var(--fill-color);\n",
              "    }\n",
              "    60% {\n",
              "      border-color: transparent;\n",
              "      border-right-color: var(--fill-color);\n",
              "    }\n",
              "    80% {\n",
              "      border-color: transparent;\n",
              "      border-right-color: var(--fill-color);\n",
              "      border-bottom-color: var(--fill-color);\n",
              "    }\n",
              "    90% {\n",
              "      border-color: transparent;\n",
              "      border-bottom-color: var(--fill-color);\n",
              "    }\n",
              "  }\n",
              "</style>\n",
              "\n",
              "  <script>\n",
              "    async function quickchart(key) {\n",
              "      const quickchartButtonEl =\n",
              "        document.querySelector('#' + key + ' button');\n",
              "      quickchartButtonEl.disabled = true;  // To prevent multiple clicks.\n",
              "      quickchartButtonEl.classList.add('colab-df-spinner');\n",
              "      try {\n",
              "        const charts = await google.colab.kernel.invokeFunction(\n",
              "            'suggestCharts', [key], {});\n",
              "      } catch (error) {\n",
              "        console.error('Error during call to suggestCharts:', error);\n",
              "      }\n",
              "      quickchartButtonEl.classList.remove('colab-df-spinner');\n",
              "      quickchartButtonEl.classList.add('colab-df-quickchart-complete');\n",
              "    }\n",
              "    (() => {\n",
              "      let quickchartButtonEl =\n",
              "        document.querySelector('#df-a9b75f29-1449-4ed1-8670-bdd87fb69467 button');\n",
              "      quickchartButtonEl.style.display =\n",
              "        google.colab.kernel.accessAllowed ? 'block' : 'none';\n",
              "    })();\n",
              "  </script>\n",
              "</div>\n",
              "\n",
              "    </div>\n",
              "  </div>\n"
            ],
            "application/vnd.google.colaboratory.intrinsic+json": {
              "type": "dataframe",
              "variable_name": "XDB",
              "summary": "{\n  \"name\": \"XDB\",\n  \"rows\": 350,\n  \"fields\": [\n    {\n      \"column\": \"Fechas\",\n      \"properties\": {\n        \"dtype\": \"date\",\n        \"min\": \"2010-01-01 00:00:00\",\n        \"max\": \"2010-12-16 00:00:00\",\n        \"num_unique_values\": 350,\n        \"samples\": [\n          \"2010-06-07 00:00:00\",\n          \"2010-12-08 00:00:00\",\n          \"2010-11-12 00:00:00\"\n        ],\n        \"semantic_type\": \"\",\n        \"description\": \"\"\n      }\n    },\n    {\n      \"column\": \"Transacciones Diarias\",\n      \"properties\": {\n        \"dtype\": \"number\",\n        \"std\": 6,\n        \"min\": 33,\n        \"max\": 71,\n        \"num_unique_values\": 35,\n        \"samples\": [\n          61,\n          53,\n          62\n        ],\n        \"semantic_type\": \"\",\n        \"description\": \"\"\n      }\n    },\n    {\n      \"column\": \"Valor Transado (millones)\",\n      \"properties\": {\n        \"dtype\": \"number\",\n        \"std\": 120.40216449115617,\n        \"min\": 182.3331,\n        \"max\": 796.7192,\n        \"num_unique_values\": 350,\n        \"samples\": [\n          489.7554,\n          535.5288,\n          648.494\n        ],\n        \"semantic_type\": \"\",\n        \"description\": \"\"\n      }\n    },\n    {\n      \"column\": \"Transacciones Fallidas\",\n      \"properties\": {\n        \"dtype\": \"number\",\n        \"std\": 2,\n        \"min\": 0,\n        \"max\": 12,\n        \"num_unique_values\": 13,\n        \"samples\": [\n          1,\n          10,\n          5\n        ],\n        \"semantic_type\": \"\",\n        \"description\": \"\"\n      }\n    },\n    {\n      \"column\": \"Valor Generado (millones)\",\n      \"properties\": {\n        \"dtype\": \"number\",\n        \"std\": 0.714811808979262,\n        \"min\": 0.00012332477343904636,\n        \"max\": 5.829340490649274,\n        \"num_unique_values\": 350,\n        \"samples\": [\n          0.04698676600133491,\n          0.024712893671307076,\n          2.9018463493119033\n        ],\n        \"semantic_type\": \"\",\n        \"description\": \"\"\n      }\n    },\n    {\n      \"column\": \"Perdida ($)\",\n      \"properties\": {\n        \"dtype\": \"number\",\n        \"std\": 4.014088962166475,\n        \"min\": 0.0,\n        \"max\": 34.82215619,\n        \"num_unique_values\": 346,\n        \"samples\": [\n          0.1046097045,\n          0.1429903952,\n          0.07014688452\n        ],\n        \"semantic_type\": \"\",\n        \"description\": \"\"\n      }\n    },\n    {\n      \"column\": \"Unnamed: 6\",\n      \"properties\": {\n        \"dtype\": \"number\",\n        \"std\": null,\n        \"min\": null,\n        \"max\": null,\n        \"num_unique_values\": 0,\n        \"samples\": [],\n        \"semantic_type\": \"\",\n        \"description\": \"\"\n      }\n    },\n    {\n      \"column\": \"Unnamed: 7\",\n      \"properties\": {\n        \"dtype\": \"category\",\n        \"num_unique_values\": 5,\n        \"samples\": [],\n        \"semantic_type\": \"\",\n        \"description\": \"\"\n      }\n    },\n    {\n      \"column\": \"Perdidad ($)\",\n      \"properties\": {\n        \"dtype\": \"number\",\n        \"std\": 16.994756673934848,\n        \"min\": 0.0,\n        \"max\": 34.82215619,\n        \"num_unique_values\": 4,\n        \"samples\": [],\n        \"semantic_type\": \"\",\n        \"description\": \"\"\n      }\n    },\n    {\n      \"column\": \"Unnamed: 9\",\n      \"properties\": {\n        \"dtype\": \"number\",\n        \"std\": null,\n        \"min\": null,\n        \"max\": null,\n        \"num_unique_values\": 0,\n        \"samples\": [],\n        \"semantic_type\": \"\",\n        \"description\": \"\"\n      }\n    },\n    {\n      \"column\": \"Unnamed: 10\",\n      \"properties\": {\n        \"dtype\": \"number\",\n        \"std\": 3.0276503540974917,\n        \"min\": 1.0,\n        \"max\": 10.0,\n        \"num_unique_values\": 10,\n        \"samples\": [],\n        \"semantic_type\": \"\",\n        \"description\": \"\"\n      }\n    },\n    {\n      \"column\": \"LI\",\n      \"properties\": {\n        \"dtype\": \"category\",\n        \"num_unique_values\": 12,\n        \"samples\": [],\n        \"semantic_type\": \"\",\n        \"description\": \"\"\n      }\n    },\n    {\n      \"column\": \"LS\",\n      \"properties\": {\n        \"dtype\": \"category\",\n        \"num_unique_values\": 21,\n        \"samples\": [],\n        \"semantic_type\": \"\",\n        \"description\": \"\"\n      }\n    },\n    {\n      \"column\": \"ND\",\n      \"properties\": {\n        \"dtype\": \"category\",\n        \"num_unique_values\": 13,\n        \"samples\": [],\n        \"semantic_type\": \"\",\n        \"description\": \"\"\n      }\n    },\n    {\n      \"column\": \"% ND\",\n      \"properties\": {\n        \"dtype\": \"category\",\n        \"num_unique_values\": 9,\n        \"samples\": [],\n        \"semantic_type\": \"\",\n        \"description\": \"\"\n      }\n    },\n    {\n      \"column\": \"Valor Central\",\n      \"properties\": {\n        \"dtype\": \"category\",\n        \"num_unique_values\": 16,\n        \"samples\": [],\n        \"semantic_type\": \"\",\n        \"description\": \"\"\n      }\n    },\n    {\n      \"column\": \"Varianza\",\n      \"properties\": {\n        \"dtype\": \"category\",\n        \"num_unique_values\": 12,\n        \"samples\": [],\n        \"semantic_type\": \"\",\n        \"description\": \"\"\n      }\n    }\n  ]\n}"
            }
          },
          "metadata": {},
          "execution_count": 4
        }
      ],
      "source": [
        "nxl='/content/drive/MyDrive/ESTUDIO/UNI/OCTAVO SEMESTRE/Integración de datos y prospectiva/Reto #1-Caracterización y muestreo de variables aleatorias/1. AdmonEjecProcesos.xlsx'\n",
        "XDB=pd.read_excel(nxl,sheet_name=1)\n",
        "XDB.head(100) #mostrar los primero 100 datos"
      ]
    },
    {
      "cell_type": "markdown",
      "source": [
        "# Caracterización de la distribución de las perdidas (LDA)"
      ],
      "metadata": {
        "id": "3miqi3do-tti"
      }
    },
    {
      "cell_type": "markdown",
      "source": [
        "Es un modelo matematico que se utiliza para estimar las perdidas potenciales por riesgo operacional, se basa en la combinación de dos parametros clave:\n",
        "\n",
        "- Frecuencia: La cantidad de veces que se repite un evento dentro de un tiempo determinado.\n",
        "- Severidad: El monto de las perdidas generadas por cada evento de riesgo."
      ],
      "metadata": {
        "id": "XkBwuMY-vEeR"
      }
    },
    {
      "cell_type": "code",
      "source": [
        "#Tomamos las variables de interes\n",
        "Xev=XDB.iloc[:,3] #Variable eventos semanales - Frecuencia\n",
        "Xsev=XDB.iloc[:,4] #perdidas promedio por evento - Severidad"
      ],
      "metadata": {
        "id": "i66XHwRv9Aaq"
      },
      "execution_count": null,
      "outputs": []
    },
    {
      "cell_type": "code",
      "source": [
        "LDA=np.multiply(Xev,Xsev)"
      ],
      "metadata": {
        "id": "QKxkBNcr9VdK"
      },
      "execution_count": null,
      "outputs": []
    },
    {
      "cell_type": "code",
      "source": [
        "#graficamos la distribucion de las perdidas\n",
        "plt.figure()\n",
        "sns.histplot(LDA, kde=True, bins=10)\n",
        "#bins agrupar los datos en 10 intervalos\n",
        "plt.legend(['Distribucion de Perdidas (LDA)'])\n",
        "plt.show()"
      ],
      "metadata": {
        "colab": {
          "base_uri": "https://localhost:8080/",
          "height": 430
        },
        "id": "14pRfElg90ii",
        "outputId": "37c00f53-5e1f-4627-f715-7db68fae8405",
        "collapsed": true
      },
      "execution_count": null,
      "outputs": [
        {
          "output_type": "display_data",
          "data": {
            "text/plain": [
              "<Figure size 640x480 with 1 Axes>"
            ],
            "image/png": "[encoded data removed]"
          },
          "metadata": {}
        }
      ]
    },
    {
      "cell_type": "markdown",
      "source": [
        "## Error de muestreo"
      ],
      "metadata": {
        "id": "THsUJCd0-mmb"
      }
    },
    {
      "cell_type": "markdown",
      "source": [
        "Debido a que no tenemos acceso a la población total, sacamos el error estandar, usando unicamente la muestra."
      ],
      "metadata": {
        "id": "nFJlsNyp-q3F"
      }
    },
    {
      "cell_type": "code",
      "source": [
        "std=np.std(LDA) # Calcula la desviación estándar de LDA\n",
        "\n",
        "#Error muestreo\n",
        "error_muestreo=std/np.sqrt(len(LDA))  # std es la desviación estándar, LDA son los datos, coeficiente de variacion en otras palabras\n",
        "print(\"Error de muestreo:\", error_muestreo) #Error de muestreo = (Desviación estándar de la muestra) / √(Tamaño de la muestra)"
      ],
      "metadata": {
        "colab": {
          "base_uri": "https://localhost:8080/"
        },
        "id": "p381ij9h1tlk",
        "outputId": "35ec0bad-4f0f-4b56-918a-b156909e7b32"
      },
      "execution_count": null,
      "outputs": [
        {
          "output_type": "stream",
          "name": "stdout",
          "text": [
            "Error de muestreo: 0.21425534373123237\n"
          ]
        }
      ]
    },
    {
      "cell_type": "markdown",
      "source": [
        "Observación: Lo ideal es que el error de muestreo sea lo mas cercano a 0, de esta forma estamos mas seguros de que la muestre es una mejor representación de la población."
      ],
      "metadata": {
        "id": "QOTAzwZz_XIy"
      }
    },
    {
      "cell_type": "code",
      "source": [
        "counts,bin_edges=np.histogram(LDA,bins=10)\n",
        "print(\"Los datos por intervalo son:\\n\", counts)\n",
        "print(\"Los limites de los intervalos son:\\n\",bin_edges)"
      ],
      "metadata": {
        "colab": {
          "base_uri": "https://localhost:8080/"
        },
        "id": "qOITxjxN_4HN",
        "outputId": "8eeb33da-73ab-4f6d-fe90-a26063215556"
      },
      "execution_count": null,
      "outputs": [
        {
          "output_type": "stream",
          "name": "stdout",
          "text": [
            "Los datos por intervalo son:\n",
            " [315  15   8   4   1   2   3   0   1   1]\n",
            "Los limites de los intervalos son:\n",
            " [ 0.          3.48221562  6.96443124 10.44664686 13.92886248 17.4110781\n",
            " 20.89329372 24.37550933 27.85772495 31.33994057 34.82215619]\n"
          ]
        }
      ]
    },
    {
      "cell_type": "markdown",
      "source": [
        "## Los datos centrales - Marcas de clase"
      ],
      "metadata": {
        "id": "d5fnTW1nBDYI"
      }
    },
    {
      "cell_type": "markdown",
      "source": [
        "Una marca de clase es un valor que representa cada intervalo o clase, de esta forma, a pesar de que no conoces exactamente todos los valores del intervalo esta marca de clase te permitir analizar el intervalo."
      ],
      "metadata": {
        "id": "ob7L5WTGpuHH"
      }
    },
    {
      "cell_type": "code",
      "source": [
        "#Limites inferiores bin_edges[:-1]\n",
        "#Limites superiores bin_edges[1:]\n",
        "mc = (bin_edges[:-1] + bin_edges[1:]) / 2\n",
        "print(\"los valores centrales de la clase son:\\n\", mc)"
      ],
      "metadata": {
        "colab": {
          "base_uri": "https://localhost:8080/"
        },
        "id": "Vq3xKArrBItH",
        "outputId": "81aad7cf-34fc-4e0c-8e76-69e8cf083c24"
      },
      "execution_count": null,
      "outputs": [
        {
          "output_type": "stream",
          "name": "stdout",
          "text": [
            "los valores centrales de la clase son:\n",
            " [ 1.74110781  5.22332343  8.70553905 12.18775467 15.66997029 19.15218591\n",
            " 22.63440152 26.11661714 29.59883276 33.08104838]\n"
          ]
        }
      ]
    },
    {
      "cell_type": "code",
      "source": [
        "#Los datos que hay por intervalo, la variable counts se define mas arriba\n",
        "fp=counts/sum(counts)\n",
        "print(\"Los datos por intervalo son:\\n\", fp)"
      ],
      "metadata": {
        "colab": {
          "base_uri": "https://localhost:8080/"
        },
        "id": "CIg-462aBMdO",
        "outputId": "52d1704a-a272-49a4-ff0b-5d8aaf00f71a"
      },
      "execution_count": null,
      "outputs": [
        {
          "output_type": "stream",
          "name": "stdout",
          "text": [
            "Los datos por intervalo son:\n",
            " [0.9        0.04285714 0.02285714 0.01142857 0.00285714 0.00571429\n",
            " 0.00857143 0.         0.00285714 0.00285714]\n"
          ]
        }
      ]
    },
    {
      "cell_type": "markdown",
      "source": [
        "# Medidas de tendencia central\n",
        "* Media\n",
        "* Varianza\n",
        "* Coeficiente de asimetria\n",
        "* Coeficiente de kurtosis\n"
      ],
      "metadata": {
        "id": "5h82-lL8Raj8"
      }
    },
    {
      "cell_type": "code",
      "source": [
        "#Media\n",
        "u=np.sum(np.multiply(mc,fp))\n",
        "print(\"La media de los datos es:\",u)\n",
        "\n",
        "#Desviación-estándar (varianza)\n",
        "var=np.sum(np.multiply((mc-u)**2,fp)) #Suma producto del Excel\n",
        "print(\"La varianza de los datos es:\",var)\n",
        "std=np.sqrt(var)\n",
        "print(\"La desviación estándar de los datos es:\", std)\n",
        "\n",
        "#Coeficiente de asimetría\n",
        "cas=np.sum(np.multiply(((mc-u)/std)**3,fp))\n",
        "print(\"El coeficiente de asimetría de los datos es:\",cas)\n",
        "\n",
        "#Coeficiente de kurtosis\n",
        "ck=np.sum(np.multiply(((mc-u)/std)**4,fp))\n",
        "ck=ck-3\n",
        "print(\"El coeficiente de kurtosis de los datos es:\",ck)"
      ],
      "metadata": {
        "colab": {
          "base_uri": "https://localhost:8080/"
        },
        "id": "FIWlMJj8EFdR",
        "outputId": "d202841c-d4fa-45d6-a1c1-2def11594709"
      },
      "execution_count": null,
      "outputs": [
        {
          "output_type": "stream",
          "name": "stdout",
          "text": [
            "La media de los datos es: 2.656433058055811\n",
            "La varianza de los datos es: 13.089556542674002\n",
            "La desviación estándar de los datos es: 3.6179492178130417\n",
            "El coeficiente de asimetría de los datos es: 5.313307467317224\n",
            "El coeficiente de kurtosis de los datos es: 31.735556826670006\n"
          ]
        }
      ]
    },
    {
      "cell_type": "code",
      "source": [
        "from scipy.stats import skew,kurtosis\n",
        "\n",
        "LDAdf=pd.DataFrame(LDA)\n",
        "LDAm=LDAdf.sample(n=1000,replace=True)\n",
        "\n",
        "\n",
        "print('El coeficiente de asimetria de los datos es:', skew(LDAm))\n",
        "print('El coeficiente de kurtosis de los datos es:', kurtosis(LDAm))\n",
        "\n",
        "print(\"la variacion del coeficiente de asimetria es:\",(cas-skew(LDAm))/cas)\n",
        "print(\"La variacion del coeficiente de curtosis es:\",(ck-kurtosis(LDAm))/ck)"
      ],
      "metadata": {
        "id": "OUhsQRmVX1Yy",
        "outputId": "612cf864-ad5e-4f87-f3db-d85b3c9607b2",
        "colab": {
          "base_uri": "https://localhost:8080/"
        }
      },
      "execution_count": null,
      "outputs": [
        {
          "output_type": "stream",
          "name": "stdout",
          "text": [
            "El coeficiente de asimetria de los datos es:\n",
            " [4.6447561]\n",
            "El coeficiente de kurtosis de los datos es: [23.30003027]\n",
            "la variacion del coeficiente de asimetria es: [0.12582584]\n",
            "La variacion del coeficiente de curtosis es: [0.26580679]\n"
          ]
        }
      ]
    },
    {
      "cell_type": "code",
      "source": [
        "#se procede con la grafica de distribuciones\n",
        "plt.figure()\n",
        "sns.histplot(LDA, kde=True, bins=30, color=\"orange\",alpha=0.5, label='LDA')\n",
        "sns.histplot(LDAm, kde=True, bins=30, color=\"blue\",alpha=0.5, label='LDAm')\n",
        "plt.legend(['LDA','LDAm'])\n",
        "plt.show()"
      ],
      "metadata": {
        "colab": {
          "base_uri": "https://localhost:8080/",
          "height": 430
        },
        "id": "SMvnxcSOw1xf",
        "outputId": "ef5abc16-0a05-42f8-fd9f-49f22bf29788"
      },
      "execution_count": null,
      "outputs": [
        {
          "output_type": "display_data",
          "data": {
            "text/plain": [
              "<Figure size 640x480 with 1 Axes>"
            ],
            "image/png": "[encoded data removed]"
          },
          "metadata": {}
        }
      ]
    },
    {
      "cell_type": "markdown",
      "source": [
        "***Análisis de eventos de pérdida en la aseguradora: un enfoque de Montecarlo***\n",
        "\n",
        "La base de datos de la aseguradora contiene *350 registros de eventos de pérdida* relacionados con la administración y ejecución de procesos. El análisis estadístico, con un 99.9% de confiabilidad según los estándares de Basilea, revela una alta precisión en la descripción de la distribución de pérdidas agregadas.\n",
        "\n",
        "***Distribución de pérdidas:*** una mirada a la estructura\n",
        "Los resultados indican una distribución con una \"cola larga\", evidenciada por:\n",
        "* Coeficiente de asimetría de 4.95\n",
        "* Coeficiente de curtosis de 27.80\n",
        "\n",
        "Esto sugiere que, si bien la mayoría de las pérdidas son de baja magnitud, existen eventos extremos, aunque poco frecuentes, que pueden generar pérdidas significativas.\n",
        "\n",
        "***Métricas clave:*** una visión detallada\n",
        "* Pérdida promedio (media): 2.656 (valor relativamente bajo).\n",
        "* Dispersión de los datos (desviación estándar): 13.089 (dispersión moderada).\n",
        "* Precisión del muestreo (error de muestreo): 0.2142 (muestra representativa con bajo margen de error).\n",
        "\n",
        "**Conclusiones:**\n",
        "\n",
        "gestión de riesgos y aplicabilidad del análisis\n",
        "El análisis sugiere que la aseguradora tiene una baja exposición al riesgo de pérdidas elevadas, ya que la mayoría de los eventos se concentran en valores bajos. No obstante, la presencia de eventos extremos implica que, aunque infrecuentes, existen casos de pérdidas significativas.\n",
        "\n",
        "El método de muestreo de Montecarlo ha permitido ajustar la caracterización de la distribución, mostrando una leve reducción en los valores de asimetría y curtosis, pero manteniendo su estructura general. Esto valida la precisión del análisis y su utilidad en la gestión de riesgos de la aseguradora.\n",
        "\n",
        "En resumen, el estudio proporciona información valiosa para la toma de decisiones en la gestión de riesgos de la aseguradora, permitiendo identificar áreas de oportunidad para fortalecer los controles y minimizar el impacto de posibles pérdidas"
      ],
      "metadata": {
        "id": "vDwefPHJ6Z81"
      }
    }
  ]
}
