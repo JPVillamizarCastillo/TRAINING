{
  "nbformat": 4,
  "nbformat_minor": 0,
  "metadata": {
    "colab": {
      "provenance": [],
      "authorship_tag": "ABX9TyOkfLlVftBj1uri4/WD5KSs",
      "include_colab_link": true
    },
    "kernelspec": {
      "name": "python3",
      "display_name": "Python 3"
    },
    "language_info": {
      "name": "python"
    }
  },
  "cells": [
    {
      "cell_type": "markdown",
      "metadata": {
        "id": "view-in-github",
        "colab_type": "text"
      },
      "source": [
        "<a href=\"https://colab.research.google.com/github/JPVillamizarCastillo/TRAINING/blob/main/Teoria_de_la_credibilidad.ipynb\" target=\"_parent\"><img src=\"https://colab.research.google.com/assets/colab-badge.svg\" alt=\"Open In Colab\"/></a>"
      ]
    },
    {
      "cell_type": "markdown",
      "source": [
        "0. Se cargan las ibrerias de trabajo"
      ],
      "metadata": {
        "id": "xlh6AOBXzJ40"
      }
    },
    {
      "cell_type": "code",
      "execution_count": null,
      "metadata": {
        "id": "ZQGioPa2zFfA"
      },
      "outputs": [],
      "source": [
        "import pandas as pd\n",
        "import numpy as np\n",
        "import matplotlib.pyplot as plt\n",
        "import seaborn as sns\n",
        "\n",
        "#from google.colab import drive\n",
        "#drive.mount('/content/drive')"
      ]
    },
    {
      "cell_type": "markdown",
      "source": [
        "1. Cargamos los datos"
      ],
      "metadata": {
        "id": "r886awPSzgJn"
      }
    },
    {
      "cell_type": "code",
      "source": [
        "nxlo=\"/content/drive/MyDrive/ESTUDIO/UNI/OCTAVO SEMESTRE/Integración de datos y prospectiva/TEORIA DE LA CREDIBILIDAD/2. AdmonEjecProcesos.xlsx\"  #Datos internos\n",
        "nxle=\"/content/drive/MyDrive/ESTUDIO/UNI/OCTAVO SEMESTRE/Integración de datos y prospectiva/TEORIA DE LA CREDIBILIDAD/2. FallasTecnológicas.xlsx\" #Datos externos\n",
        "\n",
        "XDBo=pd.read_excel(nxlo, sheet_name=0)\n",
        "XDBe=pd.read_excel(nxle, sheet_name=0)\n",
        "\n",
        "Xfo=XDBo.iloc[:,3]; Xfe=XDBe.iloc[:,3]\n",
        "Xso=XDBo.iloc[:,4]; Xse=XDBe.iloc[:,4]\n",
        "\n",
        "LDAo=np.multiply(Xfo, Xso); LDAe=np.multiply(Xfe, Xse)\n",
        "\n",
        "cr=Credibilidad(LDAo, LDAe)\n",
        "print(\"La Credibilidad es: \", cr)\n",
        "\n",
        "# Media de los datos integrados\n",
        "uint=np.mean(LDAo)*cr+np.mean(LDAe)*(1-cr)\n",
        "print(\"La media de los datos internos\", np.mean(LDAo))\n",
        "print(\"La media de los datos externos\", np.mean(LDAe))\n",
        "print(\"La media de los datos integrados\", uint)"
      ],
      "metadata": {
        "colab": {
          "base_uri": "https://localhost:8080/"
        },
        "id": "TIDRwG_bzb1V",
        "outputId": "afe19f91-cc08-4750-d75c-6b2dbdd5318d"
      },
      "execution_count": null,
      "outputs": [
        {
          "output_type": "stream",
          "name": "stdout",
          "text": [
            "La Credibilidad es:  0.9938463836920323\n",
            "La media de los datos internos 1.469187040102234\n",
            "La media de los datos externos 9.45111269614836\n",
            "La media de los datos integrados 1.5183047479882654\n"
          ]
        }
      ]
    },
    {
      "cell_type": "markdown",
      "source": [
        "**Observación:**\n",
        "\n",
        "La media de los datos esta cercana a los datos internos, eso quiere decir que el 0.99 de los datos de los datos internos explican la media, el 0.1 de los datos externos explican la media."
      ],
      "metadata": {
        "id": "xHxCYZZ661DX"
      }
    },
    {
      "cell_type": "markdown",
      "source": [
        "1. Se crea el procedimiento para calcular la credibilidad"
      ],
      "metadata": {
        "id": "5PBK_SxX1fE-"
      }
    },
    {
      "cell_type": "code",
      "source": [
        "def Credibilidad(LDAo, LDAe):\n",
        "  \"LDAo indica los datos observados, tambien conocidos como datos internos\"\n",
        "  \"LDAe indica los datos externos - integración\"\n",
        "  NDo=len(LDAo); NDe=len(LDAe)\n",
        "  varo=np.var(LDAo); vare=np.var(LDAe)\n",
        "  uo=np.mean(LDAo); ue=np.mean(LDAe)\n",
        "\n",
        "  EPV=(NDo*varo+NDe*vare)/(NDo+NDe)\n",
        "  MH=(NDo*uo+NDe*ue)/(NDo+NDe)   #Media hipotetica\n",
        "  cr=EPV\n",
        "\n",
        "  pNDo=NDo/(NDo+NDe); pNDe=NDe/(NDo+NDe)\n",
        "  VHM=pNDo*uo**2+pNDe*ue**2      #Varianza de los datos con respecto a la media hipotetica\n",
        "                                 #Punto central hipotetico\n",
        "  cr=NDo/(NDo+(EPV/VHM))\n",
        "  return cr"
      ],
      "metadata": {
        "id": "dNuP1Tj91i2W"
      },
      "execution_count": null,
      "outputs": []
    },
    {
      "cell_type": "markdown",
      "source": [
        "# **Analisis de resultados**\n",
        "\n",
        "En la integración de bases de datos se puede observar que la base de datos interna posee un total de 701 datos, mientras que la bas de datos externa posee un total de 300 datos.\n",
        "La media de los datos externa estuvo cerca a los 9.46 millones mientras que la media de los datos externos estuvo cerca de los 1.46 millones.\n",
        "Esto muestra la gran diferencia que posee estas bases de datos frente a la magnitud de las perdidas, y que se ve claramente reflejado en el valor de credibilidad el cual estuvo por encima del 95% (0.98) en promedio, lo que indica la poca credibilidad de los datos externos frente a una posible integración de los datos a una base de datos externa."
      ],
      "metadata": {
        "id": "oS7VQdFK7jm0"
      }
    }
  ]
}